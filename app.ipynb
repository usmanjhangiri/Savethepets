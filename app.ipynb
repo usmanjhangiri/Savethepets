{
 "metadata": {
  "language_info": {
   "codemirror_mode": {
    "name": "ipython",
    "version": 3
   },
   "file_extension": ".py",
   "mimetype": "text/x-python",
   "name": "python",
   "nbconvert_exporter": "python",
   "pygments_lexer": "ipython3",
   "version": "3.9.0-final"
  },
  "orig_nbformat": 2,
  "kernelspec": {
   "name": "python3",
   "display_name": "Python 3.9.0 64-bit",
   "metadata": {
    "interpreter": {
     "hash": "06e65847359c8f58ea8f9445d8330e98a487f5b713120a9c4182a25c05c8eb6b"
    }
   }
  }
 },
 "nbformat": 4,
 "nbformat_minor": 2,
 "cells": [
  {
   "cell_type": "code",
   "execution_count": 26,
   "metadata": {},
   "outputs": [],
   "source": [
    "import pickle\n",
    "from googleapiclient.discovery import build\n",
    "def main():\n",
    "    with open('token.pickle', 'rb') as token:\n",
    "        creds = pickle.load(token)\n",
    "    service = build('sheets', 'v4', credentials=creds)\n",
    "    return sheet\n"
   ]
  },
  {
   "cell_type": "code",
   "execution_count": 30,
   "metadata": {},
   "outputs": [],
   "source": [
    "sheet = main()\n",
    "# Call the Sheets API\n",
    "Keywords = [i[0] for i in sheet.values().get(spreadsheetId='1UYnqmwEaphPmBoQThryxSAVraSewcWogQ8AxSfjrqN4',\n",
    "                            range='Keywords!A1:A3').execute().get('values', [])]\n"
   ]
  }
 ]
}